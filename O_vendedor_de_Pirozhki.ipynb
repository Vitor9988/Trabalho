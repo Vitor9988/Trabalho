{
  "nbformat": 4,
  "nbformat_minor": 0,
  "metadata": {
    "colab": {
      "provenance": [],
      "include_colab_link": true
    },
    "kernelspec": {
      "name": "python3",
      "display_name": "Python 3"
    },
    "language_info": {
      "name": "python"
    }
  },
  "cells": [
    {
      "cell_type": "markdown",
      "metadata": {
        "id": "view-in-github",
        "colab_type": "text"
      },
      "source": [
        "<a href=\"https://colab.research.google.com/github/Vitor9988/Trabalho/blob/main/O_vendedor_de_Pirozhki.ipynb\" target=\"_parent\"><img src=\"https://colab.research.google.com/assets/colab-badge.svg\" alt=\"Open In Colab\"/></a>"
      ]
    },
    {
      "cell_type": "markdown",
      "source": [
        "# CASE: O vendedor de Pirozhki\n",
        "\n",
        "\n",
        "Vladimir Sidorov desistiu de seu trabalho convencional na KGB e decidiu empreender em 2010 no ramo alimentício. Com suas economias abriu um foodtruck no bairro do Ipiranga – SP especializado na venda de Pirozhki, onde seu grande diferencial era trabalhar com ingredientes importados dando uma qualidade extraordinária ao produto. Após o crescimento das vendas, a modalidade delivery foi implementada para auxiliar a empresa. Vladimir era extremamente popular no bairro, todos o conheciam, mas em 2019 se mudou para um ponto melhor e não tivemos mais notícia. Os últimos dados compartilhados das vendas de Vlad foram disponibilizados antes de sua partida.\n"
      ],
      "metadata": {
        "id": "HXZSC_Ob3Zrd"
      }
    },
    {
      "cell_type": "markdown",
      "source": [
        "\n",
        "\n",
        "1.   Dado o problema acima, qual o melhor algoritmo para descobrir os dados de 2015?\n",
        "2.   Qual coeficiente angular?\n",
        "3.   Considerando uma perspectiva estatística, qual o total de venda em 2020 (Apresentar valores)?\n",
        "4. Considerando uma perspectiva estatística, qual o total de venda em 2021 (Apresentar valores)?\n",
        "5. Desenvolva um código em python que calcule estatisticamente as vendas em qualquer ano desejado\n",
        "6. Considerando sua opinião, qual o total de venda em 2021?\n",
        "7. Considerando sua opinião, qual o total de venda em 2023?\n",
        "\n"
      ],
      "metadata": {
        "id": "jmbpy-k73f90"
      }
    },
    {
      "cell_type": "code",
      "source": [
        "# 1.\n",
        "ano_2010=723\n",
        "ano_2011=814\n",
        "ano_2012=905\n",
        "ano_2014=1087\n",
        "ano_2017=1360\n",
        "ano_2018=1451\n",
        "ano_2019=1542\n",
        "\n",
        "ano_2015=ano_2014+(2015-2014) * 91\n",
        "print(ano_2015)"
      ],
      "metadata": {
        "id": "8TPW1iI69ko2",
        "outputId": "6bef422b-07a4-4988-df3d-b48fb846bd38",
        "colab": {
          "base_uri": "https://localhost:8080/"
        }
      },
      "execution_count": 1,
      "outputs": [
        {
          "output_type": "stream",
          "name": "stdout",
          "text": [
            "1178\n"
          ]
        }
      ]
    },
    {
      "cell_type": "code",
      "source": [
        "#2\n",
        "ano_2014 = 1087\n",
        "ano_2012 = 905\n",
        "# Anos correspondentes\n",
        "ano_inicio = 2012\n",
        "ano_fim = 2014\n",
        "# Cálculo do coeficiente angular\n",
        "coeficiente_angular = (ano_2014 - ano_2012) / (ano_fim - ano_inicio)\n",
        "print(\"Coeficiente Angular:\", coeficiente_angular)"
      ],
      "metadata": {
        "id": "uW84zW7c_kkC",
        "outputId": "060ce273-0f55-48cc-e571-2e3d186a463f",
        "colab": {
          "base_uri": "https://localhost:8080/"
        }
      },
      "execution_count": 2,
      "outputs": [
        {
          "output_type": "stream",
          "name": "stdout",
          "text": [
            "Coeficiente Angular: 91.0\n"
          ]
        }
      ]
    },
    {
      "cell_type": "code",
      "source": [
        "# 3\n",
        "ano_2020=ano_2019+(2020-2019) * 91\n",
        "print(ano_2020)"
      ],
      "metadata": {
        "id": "d_5z_2fkBRcD",
        "outputId": "7fec7caf-20d9-45e9-9381-6a9bcf6a2bad",
        "colab": {
          "base_uri": "https://localhost:8080/"
        }
      },
      "execution_count": 3,
      "outputs": [
        {
          "output_type": "stream",
          "name": "stdout",
          "text": [
            "1633\n"
          ]
        }
      ]
    },
    {
      "cell_type": "code",
      "source": [
        "# 4\n",
        "ano_2021=ano_2019+(2021-2019) * 91\n",
        "print(ano_2021)"
      ],
      "metadata": {
        "id": "EhUqgAyVBl-U",
        "outputId": "3b53ac89-202f-468c-c672-c8a914eda09e",
        "colab": {
          "base_uri": "https://localhost:8080/"
        }
      },
      "execution_count": 4,
      "outputs": [
        {
          "output_type": "stream",
          "name": "stdout",
          "text": [
            "1724\n"
          ]
        }
      ]
    },
    {
      "cell_type": "code",
      "source": [
        "# 5\n",
        "escolha_ano = int(input(\"Escolha o ano: \"))\n",
        "vendas=ano_2019+(escolha_ano - 2019) * 91\n",
        "print(vendas)"
      ],
      "metadata": {
        "id": "jW7Wwr9I-epz",
        "outputId": "3b40f61e-4c86-47fc-cca4-e87f00de8c0d",
        "colab": {
          "base_uri": "https://localhost:8080/"
        }
      },
      "execution_count": 5,
      "outputs": [
        {
          "output_type": "stream",
          "name": "stdout",
          "text": [
            "Escolha o ano: 2040\n",
            "3453\n"
          ]
        }
      ]
    },
    {
      "cell_type": "markdown",
      "source": [
        "# 6 e 7\n",
        "Percebemos que a diferença de vendas entre os anos são de 91 então fizemos um raciocínio logico, fizemos o ano pedido - o ultimo ano que temos registrado e multiplicamos por 91 e somamos com o total do ultimo ano registrado.\n",
        "\n",
        "2021 = 1724\n",
        "\n",
        "2023 = 1906"
      ],
      "metadata": {
        "id": "JjLkBhrrB9H1"
      }
    },
    {
      "cell_type": "markdown",
      "source": [
        "\n",
        "\n",
        "*   Nome:  Gustavo Candile\n",
        "*   RM: 98852\n",
        "*   Nome:  Vitor Tavares\n",
        "*   RM: 99079\n",
        "\n",
        "\n"
      ],
      "metadata": {
        "id": "Wi9_DVhq34pT"
      }
    }
  ]
}